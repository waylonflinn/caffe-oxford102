{
 "cells": [
  {
   "cell_type": "markdown",
   "metadata": {},
   "source": [
    "Classifying the 102 Category Flower Dataset with Caffe\n",
    "===========================================\n",
    "\n",
    "\n",
    "Before we begin, you should follow the instructions in the README. This will show you how to train a caffe neural net on the Oxford 102 Category Flowers data set, found [here](http://www.robots.ox.ac.uk/~vgg/data/flowers/102/)."
   ]
  },
  {
   "cell_type": "markdown",
   "metadata": {},
   "source": [
    "next, set `CAFFE_ROOT` below to the root of your caffe installation."
   ]
  },
  {
   "cell_type": "code",
   "execution_count": 0,
   "metadata": {
    "collapsed": false
   },
   "outputs": [],
   "source": [
    "import numpy as np\n",
    "import matplotlib.pyplot as plt\n",
    "%matplotlib inline\n",
    "\n",
    "\n",
    "# Make sure that caffe is on the python path:\n",
    "CAFFE_ROOT = '/home/waylonflinn/Development/caffe/'\n",
    "import sys\n",
    "sys.path.insert(0, CAFFE_ROOT + 'python')\n",
    "\n",
    "import caffe\n",
    "\n",
    "from caffe.io import load_image\n",
    "from scipy.io import loadmat\n",
    "\n",
    "# Set the right path to your model definition file, pretrained model weights,\n",
    "# and the image you would like to classify.\n",
    "REF_MODEL_FILE = CAFFE_ROOT + 'models/bvlc_reference_caffenet/deploy.prototxt'\n",
    "REF_PRETRAINED = CAFFE_ROOT + 'models/bvlc_reference_caffenet/bvlc_reference_caffenet.caffemodel'\n",
    "\n",
    "MODEL_FILE = './deploy.prototxt'\n",
    "PRETRAINED = './oxford102_iter_50000.caffemodel'\n",
    "\n",
    "RAW_DATA_DIR = './data/'\n",
    "IMAGE_DATA_DIR = RAW_DATA_DIR + 'oxford102/jpg/'\n",
    "SEGMENT_DATA_DIR = RAW_DATA_DIR + 'oxford102/segmim/'\n",
    "LABEL_FILE = RAW_DATA_DIR + 'imagelabels.mat'\n",
    "# training, test and validation set indeces\n",
    "SET_FILE = RAW_DATA_DIR + 'setid.mat'\n",
    "\n",
    "IMAGE_FORMAT = 'image_{0:05d}.jpg'\n",
    "SEGMENT_FORMAT = 'segmim_{0:05d}.jpg'"
   ]
  },
  {
   "cell_type": "markdown",
   "metadata": {},
   "source": [
    "Run this to get bigger plots"
   ]
  },
  {
   "cell_type": "code",
   "execution_count": 0,
   "metadata": {
    "collapsed": false
   },
   "outputs": [],
   "source": [
    "import matplotlib\n",
    "matplotlib.rcParams['savefig.dpi'] = 2 * matplotlib.rcParams['savefig.dpi']\n",
    "matplotlib.rcParams['savefig.dpi']"
   ]
  },
  {
   "cell_type": "markdown",
   "metadata": {},
   "source": [
    "### Import Labels and Set Definitions"
   ]
  },
  {
   "cell_type": "code",
   "execution_count": 0,
   "metadata": {
    "collapsed": false
   },
   "outputs": [],
   "source": [
    "flower_mat = loadmat(LABEL_FILE)\n",
    "labels = flower_mat['labels'][0]\n",
    "\n",
    "set_mat = loadmat(SET_FILE)\n",
    "# we used test data for training, so swap that here\n",
    "test_ids = set_mat['trnid'][0]\n",
    "train_ids = set_mat['tstid'][0]\n",
    "valid_ids = set_mat['valid'][0]"
   ]
  },
  {
   "cell_type": "code",
   "execution_count": 0,
   "metadata": {
    "collapsed": false
   },
   "outputs": [],
   "source": [
    "labels"
   ]
  },
  {
   "cell_type": "code",
   "execution_count": 0,
   "metadata": {
    "collapsed": false
   },
   "outputs": [],
   "source": [
    "test_ids"
   ]
  },
  {
   "cell_type": "markdown",
   "metadata": {},
   "source": [
    "Map the label to the name. This is only a partial list, which I've constructed by hand. I haven't, yet, found a complete mapping of labels to names.\n",
    "\n",
    "This page is good for adding new names: [Categories](http://www.robots.ox.ac.uk/~vgg/data/flowers/102/categories.html)"
   ]
  },
  {
   "cell_type": "code",
   "execution_count": 0,
   "metadata": {
    "collapsed": true
   },
   "outputs": [],
   "source": [
    "name_map = { \n",
    "            1 : 'Pink Primrose',\n",
    "            2 : 'Hard-Leaved Pocket Orchid',\n",
    "            3 : 'Canterbury Bells',\n",
    "            4 : 'Sweet Pea',\n",
    "            5 : 'English Marigold',\n",
    "            6 : 'Tiger Lily',\n",
    "            7 : 'Moon Orchid',\n",
    "            8 : 'Bird of Paradise',\n",
    "            9 : 'Monkshood',\n",
    "            10: 'Globe Thistle',\n",
    "            11: 'Snapdragon',\n",
    "            12: 'Colts Foot',\n",
    "            13: 'King Protea',\n",
    "            21: 'Fire Lily',\n",
    "            36: 'Ruby-lipped Cattleya',\n",
    "            44: 'Poinsettia',\n",
    "            45: 'Bolero Deep Blue',\n",
    "            68: 'Bearded Iris',\n",
    "            74: 'Rose',\n",
    "            85: 'Desert-rose',\n",
    "            94: 'Foxglove'}"
   ]
  },
  {
   "cell_type": "markdown",
   "metadata": {},
   "source": [
    "We'll use the same means as in the caffe classification example (on which this is based).\n",
    "\n",
    "We'll run on the CPU for the computation."
   ]
  },
  {
   "cell_type": "code",
   "execution_count": 0,
   "metadata": {
    "collapsed": false
   },
   "outputs": [],
   "source": [
    "imagenet_mean = np.load(CAFFE_ROOT + 'python/caffe/imagenet/ilsvrc_2012_mean.npy').mean(1).mean(1)"
   ]
  },
  {
   "cell_type": "code",
   "execution_count": 0,
   "metadata": {
    "collapsed": true
   },
   "outputs": [],
   "source": [
    "caffe.set_mode_cpu()"
   ]
  },
  {
   "cell_type": "code",
   "execution_count": 0,
   "metadata": {
    "collapsed": false
   },
   "outputs": [],
   "source": [
    "net = caffe.Classifier(MODEL_FILE, PRETRAINED,\n",
    "                       mean=imagenet_mean,\n",
    "                       channel_swap=(2,1,0),\n",
    "                       raw_scale=255,\n",
    "                       image_dims=(256, 256))"
   ]
  },
  {
   "cell_type": "markdown",
   "metadata": {},
   "source": [
    "### Search for Images by Label"
   ]
  },
  {
   "cell_type": "markdown",
   "metadata": {},
   "source": [
    "Let's find all the images with the label `7`. This should be the Moon Orchid."
   ]
  },
  {
   "cell_type": "code",
   "execution_count": 0,
   "metadata": {
    "collapsed": false
   },
   "outputs": [],
   "source": [
    "search_label = 7\n",
    "search_label_indeces = np.nonzero(labels == search_label)[0]"
   ]
  },
  {
   "cell_type": "markdown",
   "metadata": {},
   "source": [
    "Should find `40` images"
   ]
  },
  {
   "cell_type": "code",
   "execution_count": 0,
   "metadata": {
    "collapsed": false
   },
   "outputs": [],
   "source": [
    "len(search_label_indeces)"
   ]
  },
  {
   "cell_type": "markdown",
   "metadata": {},
   "source": [
    "## Predictions on the Training Set"
   ]
  },
  {
   "cell_type": "markdown",
   "metadata": {},
   "source": [
    "### Construct Filename and Load Image"
   ]
  },
  {
   "cell_type": "markdown",
   "metadata": {},
   "source": [
    "Now we'll load the first image that matches our choosen label."
   ]
  },
  {
   "cell_type": "code",
   "execution_count": 0,
   "metadata": {
    "collapsed": false
   },
   "outputs": [],
   "source": [
    "search_file_index = search_label_indeces[0]"
   ]
  },
  {
   "cell_type": "code",
   "execution_count": 0,
   "metadata": {
    "collapsed": false
   },
   "outputs": [],
   "source": [
    "# add one to index because image file numbers start at 1\n",
    "file_name = IMAGE_FORMAT.format(search_file_index + 1)\n",
    "test_image = IMAGE_DATA_DIR + file_name\n",
    "test_image"
   ]
  },
  {
   "cell_type": "code",
   "execution_count": 0,
   "metadata": {
    "collapsed": false
   },
   "outputs": [],
   "source": [
    "input_image = load_image(test_image)\n",
    "print(\"{1} x {0}\".format(*input_image.shape))\n",
    "plt.imshow(input_image)"
   ]
  },
  {
   "cell_type": "markdown",
   "metadata": {},
   "source": [
    "Time to classify. The default is to actually do 10 predictions, cropping the center and corners of the image as well as their mirrored versions, and average over the predictions:"
   ]
  },
  {
   "cell_type": "code",
   "execution_count": 0,
   "metadata": {
    "collapsed": false
   },
   "outputs": [],
   "source": [
    "output = net.predict([input_image])  # predict takes any number of images, and formats them for the Caffe net automatically\n",
    "predictions = output[0]\n",
    "print('prediction shape: {0}'.format(predictions.shape))"
   ]
  },
  {
   "cell_type": "markdown",
   "metadata": {},
   "source": [
    "Since we're using Softmax, the output (stored in `predictions`) should be a probability distribution over the class labels."
   ]
  },
  {
   "cell_type": "code",
   "execution_count": 0,
   "metadata": {
    "collapsed": false
   },
   "outputs": [],
   "source": [
    "classes = np.arange(0, len(predictions))\n",
    "plt.bar(classes, predictions, 1.0)\n",
    "# class numbers start at 1\n",
    "predicted_class_index = predictions.argmax()\n",
    "predicted_class = predicted_class_index + 1\n",
    "predicted_name = name_map[predicted_class] if predicted_class in name_map else '<class only> ->'\n",
    "print('predicted class: {0} ({1})'.format(predicted_name, predicted_class))\n",
    "print('probability: {0:.1f}%'.format(predictions[predicted_class_index] * 100))"
   ]
  },
  {
   "cell_type": "markdown",
   "metadata": {},
   "source": [
    "The predicted class is 7 ('Moon Orchid'), as expected and should be pretty close to a 100% match (since it's in the training set)."
   ]
  },
  {
   "cell_type": "markdown",
   "metadata": {},
   "source": [
    "## Predictions on Test Set"
   ]
  },
  {
   "cell_type": "markdown",
   "metadata": {},
   "source": [
    "Now let's try something a little harder. Predicting something from the test set. \n",
    "\n",
    "We'll pick the first index from the test set (you should come back and try more stuff later)."
   ]
  },
  {
   "cell_type": "code",
   "execution_count": 0,
   "metadata": {
    "collapsed": false
   },
   "outputs": [],
   "source": [
    "test_file_index = test_ids[0]\n",
    "labels[test_file_index]"
   ]
  },
  {
   "cell_type": "markdown",
   "metadata": {},
   "source": [
    "First index has a label of `1` ('Pink Primrose'). So that's what we should see in the prediction.\n",
    "Let's take a look at the image."
   ]
  },
  {
   "cell_type": "code",
   "execution_count": 0,
   "metadata": {
    "collapsed": false
   },
   "outputs": [],
   "source": [
    "# add one to index because image file numbers start at 1\n",
    "file_name = IMAGE_FORMAT.format(test_file_index + 1)\n",
    "test_image = IMAGE_DATA_DIR + file_name\n",
    "input_image = load_image(test_image)\n",
    "print(\"{1} x {0}\".format(*input_image.shape))\n",
    "plt.imshow(input_image)"
   ]
  },
  {
   "cell_type": "markdown",
   "metadata": {},
   "source": [
    "Now we'll make the new prediction for this image. Turning off the oversample feature seems to give better results. You should experiment and see what happens."
   ]
  },
  {
   "cell_type": "code",
   "execution_count": 0,
   "metadata": {
    "collapsed": false
   },
   "outputs": [],
   "source": [
    "output = net.predict([input_image], oversample=False) \n",
    "predictions = output[0]\n",
    "print('prediction shape: {0}'.format(predictions.shape))"
   ]
  },
  {
   "cell_type": "code",
   "execution_count": 0,
   "metadata": {
    "collapsed": false
   },
   "outputs": [],
   "source": [
    "classes = np.arange(0, len(predictions))\n",
    "plt.bar(classes, predictions, 1.0)\n",
    "# class numbers start at 1\n",
    "predicted_class_index = predictions.argmax()\n",
    "predicted_class = predicted_class_index + 1\n",
    "predicted_name = name_map[predicted_class] if predicted_class in name_map else '<class only> ->'\n",
    "print('predicted class: {0} ({1})'.format(predicted_name, predicted_class))\n",
    "print('probability: {0:.1f}%'.format(predictions[predicted_class_index] * 100))"
   ]
  },
  {
   "cell_type": "markdown",
   "metadata": {},
   "source": [
    "Class label `1` ('Pink Primrose') as expected. You can also see some (much smaller) secondary predictions in the bar chart above (they're tiny, look near the axis)."
   ]
  },
  {
   "cell_type": "markdown",
   "metadata": {},
   "source": [
    "## Conclusion"
   ]
  },
  {
   "cell_type": "markdown",
   "metadata": {},
   "source": [
    "Stuff to try:\n",
    "\n",
    "* check out the `predictions` array\n",
    "* see what happens when you turn oversampling back on for images in the test set\n",
    "* make predictions for other images in the test set\n",
    "* make predictions for stuff not in the data set at all (a rose by any other name?)"
   ]
  },
  {
   "cell_type": "markdown",
   "metadata": {},
   "source": [
    "## Extras"
   ]
  },
  {
   "cell_type": "markdown",
   "metadata": {},
   "source": [
    "Try it out on images not in the data set."
   ]
  },
  {
   "cell_type": "code",
   "execution_count": 0,
   "metadata": {
    "collapsed": true
   },
   "outputs": [],
   "source": [
    "alt_image = './iris2.jpg'"
   ]
  },
  {
   "cell_type": "code",
   "execution_count": 0,
   "metadata": {
    "collapsed": false
   },
   "outputs": [],
   "source": [
    "input_image = load_image(alt_image)\n",
    "print(\"{1} x {0}\".format(*input_image.shape))\n",
    "plt.imshow(input_image)"
   ]
  },
  {
   "cell_type": "code",
   "execution_count": 0,
   "metadata": {
    "collapsed": false
   },
   "outputs": [],
   "source": [
    "output = net.predict([input_image], oversample=False) \n",
    "predictions = output[0]\n",
    "print('prediction shape: {0}'.format(predictions.shape))"
   ]
  },
  {
   "cell_type": "code",
   "execution_count": 0,
   "metadata": {
    "collapsed": false
   },
   "outputs": [],
   "source": [
    "np.argsort(predictions)[::-1][:3] + 1"
   ]
  },
  {
   "cell_type": "code",
   "execution_count": 0,
   "metadata": {
    "collapsed": false
   },
   "outputs": [],
   "source": [
    "predictions[np.argsort(predictions)[::-1][:3]]"
   ]
  },
  {
   "cell_type": "code",
   "execution_count": 0,
   "metadata": {
    "collapsed": false
   },
   "outputs": [],
   "source": [
    "classes = np.arange(0, len(predictions))\n",
    "plt.bar(classes, predictions, 1.0)\n",
    "# class numbers start at 1\n",
    "predicted_class_index = predictions.argmax()\n",
    "predicted_class = predicted_class_index + 1\n",
    "predicted_name = name_map[predicted_class] if predicted_class in name_map else '<class only> ->'\n",
    "print('predicted class: {0} ({1})'.format(predicted_name, predicted_class))\n",
    "print('probability: {0:.1f}%'.format(predictions[predicted_class_index] * 100))"
   ]
  },
  {
   "cell_type": "code",
   "execution_count": 0,
   "metadata": {
    "collapsed": true
   },
   "outputs": [],
   "source": []
  }
 ],
 "metadata": {
  "description": "Use the pre-trained ImageNet model to classify images with the Python interface.",
  "example_name": "ImageNet classification",
  "include_in_docs": true,
  "kernelspec": {
   "display_name": "Python 3",
   "language": "python",
   "name": "python3"
  },
  "language_info": {
   "codemirror_mode": {
    "name": "ipython",
    "version": 3
   },
   "file_extension": ".py",
   "mimetype": "text/x-python",
   "name": "python",
   "nbconvert_exporter": "python",
   "pygments_lexer": "ipython3",
   "version": "3.4.0"
  },
  "priority": 1
 },
 "nbformat": 4,
 "nbformat_minor": 0
}
